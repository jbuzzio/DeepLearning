{
  "nbformat": 4,
  "nbformat_minor": 0,
  "metadata": {
    "colab": {
      "provenance": [],
      "authorship_tag": "ABX9TyMVN7bChUzLE6XIAg029pl3",
      "include_colab_link": true
    },
    "kernelspec": {
      "name": "python3",
      "display_name": "Python 3"
    },
    "language_info": {
      "name": "python"
    }
  },
  "cells": [
    {
      "cell_type": "markdown",
      "metadata": {
        "id": "view-in-github",
        "colab_type": "text"
      },
      "source": [
        "<a href=\"https://colab.research.google.com/github/jbuzzio/DeepLearning/blob/main/02_preprocesado.ipynb\" target=\"_parent\"><img src=\"https://colab.research.google.com/assets/colab-badge.svg\" alt=\"Open In Colab\"/></a>"
      ]
    },
    {
      "cell_type": "code",
      "source": [
        "!pip install gdown"
      ],
      "metadata": {
        "colab": {
          "base_uri": "https://localhost:8080/"
        },
        "id": "RWswKCW2vmnC",
        "outputId": "c487b7ff-78cf-4d76-b18c-f206608223f7"
      },
      "execution_count": 1,
      "outputs": [
        {
          "output_type": "stream",
          "name": "stdout",
          "text": [
            "Requirement already satisfied: gdown in /usr/local/lib/python3.10/dist-packages (5.2.0)\n",
            "Requirement already satisfied: beautifulsoup4 in /usr/local/lib/python3.10/dist-packages (from gdown) (4.12.3)\n",
            "Requirement already satisfied: filelock in /usr/local/lib/python3.10/dist-packages (from gdown) (3.16.1)\n",
            "Requirement already satisfied: requests[socks] in /usr/local/lib/python3.10/dist-packages (from gdown) (2.32.3)\n",
            "Requirement already satisfied: tqdm in /usr/local/lib/python3.10/dist-packages (from gdown) (4.66.6)\n",
            "Requirement already satisfied: soupsieve>1.2 in /usr/local/lib/python3.10/dist-packages (from beautifulsoup4->gdown) (2.6)\n",
            "Requirement already satisfied: charset-normalizer<4,>=2 in /usr/local/lib/python3.10/dist-packages (from requests[socks]->gdown) (3.4.0)\n",
            "Requirement already satisfied: idna<4,>=2.5 in /usr/local/lib/python3.10/dist-packages (from requests[socks]->gdown) (3.10)\n",
            "Requirement already satisfied: urllib3<3,>=1.21.1 in /usr/local/lib/python3.10/dist-packages (from requests[socks]->gdown) (2.2.3)\n",
            "Requirement already satisfied: certifi>=2017.4.17 in /usr/local/lib/python3.10/dist-packages (from requests[socks]->gdown) (2024.8.30)\n",
            "Requirement already satisfied: PySocks!=1.5.7,>=1.5.6 in /usr/local/lib/python3.10/dist-packages (from requests[socks]->gdown) (1.7.1)\n"
          ]
        }
      ]
    },
    {
      "cell_type": "markdown",
      "source": [
        "# Descarga y descompresion del dataset que se encuentra en google drive"
      ],
      "metadata": {
        "id": "rvUGCpce-idz"
      }
    },
    {
      "cell_type": "code",
      "source": [
        "file_id = \"1R2Za2aHaGTyoc0lbmPb0TxjFRQ4TgO0Y\" #ID del archivo en google drive\n",
        "destination = \"cicids2017_dataset\"\n",
        "\n",
        "# Descargar el archivo\n",
        "!gdown --id \"$file_id\" -O \"$destination\"\n",
        "\n",
        "# Descomprimir el archivo\n",
        "!unzip -q \"$destination\" -d \"/content\"\n",
        "!rm cicids2017_dataset"
      ],
      "metadata": {
        "colab": {
          "base_uri": "https://localhost:8080/"
        },
        "id": "INjimdxdt_PB",
        "outputId": "daad02b7-3d91-4e8b-8cda-74544f2c85f9"
      },
      "execution_count": 2,
      "outputs": [
        {
          "output_type": "stream",
          "name": "stdout",
          "text": [
            "/usr/local/lib/python3.10/dist-packages/gdown/__main__.py:140: FutureWarning: Option `--id` was deprecated in version 4.3.1 and will be removed in 5.0. You don't need to pass it anymore to use a file ID.\n",
            "  warnings.warn(\n",
            "Downloading...\n",
            "From (original): https://drive.google.com/uc?id=1R2Za2aHaGTyoc0lbmPb0TxjFRQ4TgO0Y\n",
            "From (redirected): https://drive.google.com/uc?id=1R2Za2aHaGTyoc0lbmPb0TxjFRQ4TgO0Y&confirm=t&uuid=f29ba327-f0e5-4e4b-b69c-4a4a4ec490cb\n",
            "To: /content/cicids2017_dataset\n",
            "100% 31.2M/31.2M [00:00<00:00, 97.1MB/s]\n"
          ]
        }
      ]
    },
    {
      "cell_type": "code",
      "execution_count": 3,
      "metadata": {
        "id": "ucZdUx5VtkGn"
      },
      "outputs": [],
      "source": [
        "import os\n",
        "import numpy as np\n",
        "import sklearn.preprocessing as skpp\n",
        "import pandas as pd\n",
        "import random\n",
        "from sklearn.model_selection import train_test_split\n",
        "import matplotlib.pyplot as plt\n",
        "from sklearn.utils import resample"
      ]
    },
    {
      "cell_type": "markdown",
      "source": [
        "# Cargar el dataset\n"
      ],
      "metadata": {
        "id": "XJBvdKZj-pSk"
      }
    },
    {
      "cell_type": "code",
      "source": [
        "dataset = np.load(\"/content/cicids2017_dataset.npz\")\n",
        "X = dataset['X']\n",
        "y = dataset['y']"
      ],
      "metadata": {
        "id": "76ZPuSF5wioD"
      },
      "execution_count": 10,
      "outputs": []
    },
    {
      "cell_type": "code",
      "source": [
        "labels = pd.DataFrame(y, columns=['label'])\n",
        "labels['label'].unique()"
      ],
      "metadata": {
        "colab": {
          "base_uri": "https://localhost:8080/"
        },
        "id": "zEuk7u_6wme5",
        "outputId": "bc6e33a7-a90b-4373-9088-b2add36e1738"
      },
      "execution_count": 11,
      "outputs": [
        {
          "output_type": "execute_result",
          "data": {
            "text/plain": [
              "array(['benign', 'ddos', 'dos', 'PortScan'], dtype=object)"
            ]
          },
          "metadata": {},
          "execution_count": 11
        }
      ]
    },
    {
      "cell_type": "markdown",
      "source": [
        "# Submuestro de los datos"
      ],
      "metadata": {
        "id": "oY951hIh-seC"
      }
    },
    {
      "cell_type": "markdown",
      "source": [
        "Dado que en el notebook anterior vimos que los datos estan muy desbalanceados. Es necesario que hagamos un balanceo de los datos a fin de evitar algun sesgo para con las clases mayoritarias al momento de la clasificación."
      ],
      "metadata": {
        "id": "gkjiXhuL-xjK"
      }
    },
    {
      "cell_type": "code",
      "source": [
        "# Lista para almacenar los datos balanceados\n",
        "balanced_data = []\n",
        "\n",
        "# Número de muestras objetivo para la clase 'benign'\n",
        "target_samples = 3000  # Valor para benign\n",
        "\n",
        "for label in labels['label'].unique():\n",
        "    # Filtrar las imágenes y etiquetas correspondientes a la clase\n",
        "    class_indices = labels[labels['label'] == label].index  # Índices de la clase\n",
        "    class_images = X[class_indices]  # Imágenes de la clase\n",
        "    class_labels = labels.loc[class_indices]  # Etiquetas de la clase\n",
        "\n",
        "    if label == 'benign':\n",
        "        # Submuestrear la clase 'benign' a `target_samples`\n",
        "        balanced_images, balanced_labels = resample(\n",
        "            class_images,\n",
        "            class_labels,\n",
        "            replace=False,  # No duplicar\n",
        "            n_samples=target_samples,  # Submuestreo a 3000\n",
        "            random_state=42\n",
        "        )\n",
        "    else:\n",
        "        # Mantener las demás clases constantes\n",
        "        balanced_images = class_images\n",
        "        balanced_labels = class_labels\n",
        "\n",
        "    # Añadir los datos balanceados o constantes a la lista\n",
        "    balanced_data.append((balanced_images, balanced_labels))\n",
        "\n",
        "# Concatenar todas las clases\n",
        "balanced_images = np.concatenate([data[0] for data in balanced_data], axis=0)\n",
        "balanced_labels = pd.concat([data[1] for data in balanced_data], axis=0)\n",
        "\n",
        "# Mostrar la forma de las imágenes balanceadas y las etiquetas\n",
        "print(f'Imágenes balanceadas: {balanced_images.shape}')\n",
        "print(f'Etiquetas balanceadas: {balanced_labels.shape}')"
      ],
      "metadata": {
        "colab": {
          "base_uri": "https://localhost:8080/"
        },
        "id": "B5Bwq_BMwssC",
        "outputId": "0529741d-c539-49ba-c2d5-2913fba96252"
      },
      "execution_count": 12,
      "outputs": [
        {
          "output_type": "stream",
          "name": "stdout",
          "text": [
            "Imágenes balanceadas: (5991, 60, 60, 3)\n",
            "Etiquetas balanceadas: (5991, 1)\n"
          ]
        }
      ]
    },
    {
      "cell_type": "markdown",
      "source": [
        "Ploteamos nuevamente las clases"
      ],
      "metadata": {
        "id": "rnHEwCcH_Oj0"
      }
    },
    {
      "cell_type": "code",
      "source": [
        "distribucion_clases= {}\n",
        "for i in labels['label'].unique():\n",
        "  distribucion_clases[i] =len(balanced_labels[balanced_labels['label'] == i])\n",
        "print(distribucion_clases)"
      ],
      "metadata": {
        "id": "hcMIxSWN0Zs6",
        "colab": {
          "base_uri": "https://localhost:8080/"
        },
        "outputId": "e694a3b6-1d4f-487c-8fcd-13363bd592cd"
      },
      "execution_count": 15,
      "outputs": [
        {
          "output_type": "stream",
          "name": "stdout",
          "text": [
            "{'benign': 3000, 'ddos': 711, 'dos': 1398, 'PortScan': 882}\n"
          ]
        }
      ]
    },
    {
      "cell_type": "code",
      "source": [
        "plt.figure(figsize=(8, 4))\n",
        "plt.bar(distribucion_clases.keys(),distribucion_clases.values(), color='blue')\n",
        "plt.title('Diagrama de Barras de Ataques DDoS')\n",
        "plt.xlabel('Tipos de Ataques')\n",
        "plt.ylabel('Número de Eventos')\n",
        "plt.xticks(rotation=45)\n",
        "plt.tight_layout()\n",
        "plt.show()"
      ],
      "metadata": {
        "colab": {
          "base_uri": "https://localhost:8080/",
          "height": 407
        },
        "id": "akkQyK2U0gkS",
        "outputId": "38011e1e-6fba-48d9-d530-fc253364a39a"
      },
      "execution_count": 14,
      "outputs": [
        {
          "output_type": "display_data",
          "data": {
            "text/plain": [
              "<Figure size 800x400 with 1 Axes>"
            ],
            "image/png": "[encoded data removed]"
          },
          "metadata": {}
        }
      ]
    },
    {
      "cell_type": "markdown",
      "source": [
        "Guardamos este dataset submuestrado para utilizarlo en la arquitectura"
      ],
      "metadata": {
        "id": "2wrz6-Kx_Q_a"
      }
    },
    {
      "cell_type": "code",
      "source": [
        "np.savez(\"/content/cicids2017_balanceado\", X=balanced_images, y=balanced_labels)"
      ],
      "metadata": {
        "id": "xs2D6WHJ1rPC"
      },
      "execution_count": 16,
      "outputs": []
    }
  ]
}