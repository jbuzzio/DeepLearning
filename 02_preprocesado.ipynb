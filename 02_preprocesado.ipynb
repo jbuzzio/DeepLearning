{
  "nbformat": 4,
  "nbformat_minor": 0,
  "metadata": {
    "colab": {
      "provenance": [],
      "authorship_tag": "ABX9TyPyTK3GQGPV8ybaueP0ko9A",
      "include_colab_link": true
    },
    "kernelspec": {
      "name": "python3",
      "display_name": "Python 3"
    },
    "language_info": {
      "name": "python"
    }
  },
  "cells": [
    {
      "cell_type": "markdown",
      "metadata": {
        "id": "view-in-github",
        "colab_type": "text"
      },
      "source": [
        "<a href=\"https://colab.research.google.com/github/jbuzzio/DeepLearning/blob/main/02_preprocesado.ipynb\" target=\"_parent\"><img src=\"https://colab.research.google.com/assets/colab-badge.svg\" alt=\"Open In Colab\"/></a>"
      ]
    },
    {
      "cell_type": "code",
      "source": [
        "!pip install gdown"
      ],
      "metadata": {
        "colab": {
          "base_uri": "https://localhost:8080/"
        },
        "id": "RWswKCW2vmnC",
        "outputId": "66193420-89ff-4b56-d2cb-61caf4f86c99"
      },
      "execution_count": null,
      "outputs": [
        {
          "output_type": "stream",
          "name": "stdout",
          "text": [
            "Requirement already satisfied: gdown in /usr/local/lib/python3.10/dist-packages (5.2.0)\n",
            "Requirement already satisfied: beautifulsoup4 in /usr/local/lib/python3.10/dist-packages (from gdown) (4.12.3)\n",
            "Requirement already satisfied: filelock in /usr/local/lib/python3.10/dist-packages (from gdown) (3.16.1)\n",
            "Requirement already satisfied: requests[socks] in /usr/local/lib/python3.10/dist-packages (from gdown) (2.32.3)\n",
            "Requirement already satisfied: tqdm in /usr/local/lib/python3.10/dist-packages (from gdown) (4.66.6)\n",
            "Requirement already satisfied: soupsieve>1.2 in /usr/local/lib/python3.10/dist-packages (from beautifulsoup4->gdown) (2.6)\n",
            "Requirement already satisfied: charset-normalizer<4,>=2 in /usr/local/lib/python3.10/dist-packages (from requests[socks]->gdown) (3.4.0)\n",
            "Requirement already satisfied: idna<4,>=2.5 in /usr/local/lib/python3.10/dist-packages (from requests[socks]->gdown) (3.10)\n",
            "Requirement already satisfied: urllib3<3,>=1.21.1 in /usr/local/lib/python3.10/dist-packages (from requests[socks]->gdown) (2.2.3)\n",
            "Requirement already satisfied: certifi>=2017.4.17 in /usr/local/lib/python3.10/dist-packages (from requests[socks]->gdown) (2024.8.30)\n",
            "Requirement already satisfied: PySocks!=1.5.7,>=1.5.6 in /usr/local/lib/python3.10/dist-packages (from requests[socks]->gdown) (1.7.1)\n"
          ]
        }
      ]
    },
    {
      "cell_type": "markdown",
      "source": [
        "# Descarga y descompresion del dataset que se encuentra en google drive"
      ],
      "metadata": {
        "id": "rvUGCpce-idz"
      }
    },
    {
      "cell_type": "code",
      "source": [
        "file_id = \"1LjpdAiNaD-C67WNswE5pE-6MNEh4LtKj\"  # Reemplaza FILE_ID con el ID de tu archivo\n",
        "destination = \"cicddos2019_dataset.zip\"\n",
        "\n",
        "# Descargar el archivo\n",
        "!gdown --id \"$file_id\" -O \"$destination\"\n",
        "\n",
        "# Descomprimir el archivo\n",
        "!unzip -q \"$destination\" -d \"/content\"\n",
        "!rm cicddos2019_dataset.zip"
      ],
      "metadata": {
        "colab": {
          "base_uri": "https://localhost:8080/"
        },
        "id": "INjimdxdt_PB",
        "outputId": "4f6f2128-4548-4dc8-8bb4-4806ace12072"
      },
      "execution_count": null,
      "outputs": [
        {
          "output_type": "stream",
          "name": "stdout",
          "text": [
            "/usr/local/lib/python3.10/dist-packages/gdown/__main__.py:140: FutureWarning: Option `--id` was deprecated in version 4.3.1 and will be removed in 5.0. You don't need to pass it anymore to use a file ID.\n",
            "  warnings.warn(\n",
            "Downloading...\n",
            "From (original): https://drive.google.com/uc?id=1LjpdAiNaD-C67WNswE5pE-6MNEh4LtKj\n",
            "From (redirected): https://drive.google.com/uc?id=1LjpdAiNaD-C67WNswE5pE-6MNEh4LtKj&confirm=t&uuid=dc759c34-5c13-4498-958b-44cf3411f638\n",
            "To: /content/cicddos2019_dataset.zip\n",
            "100% 168M/168M [00:01<00:00, 167MB/s]\n"
          ]
        }
      ]
    },
    {
      "cell_type": "code",
      "execution_count": 26,
      "metadata": {
        "id": "ucZdUx5VtkGn"
      },
      "outputs": [],
      "source": [
        "import os\n",
        "import numpy as np\n",
        "import sklearn.preprocessing as skpp\n",
        "import pandas as pd\n",
        "import random\n",
        "from sklearn.model_selection import train_test_split\n",
        "import matplotlib.pyplot as plt\n",
        "from sklearn.utils import resample"
      ]
    },
    {
      "cell_type": "markdown",
      "source": [
        "# Cargar el dataset\n"
      ],
      "metadata": {
        "id": "XJBvdKZj-pSk"
      }
    },
    {
      "cell_type": "code",
      "source": [
        "dataset = np.load(\"/content/cicddos2019_dataset.npz\")\n",
        "X = dataset['X']\n",
        "y = dataset['y']"
      ],
      "metadata": {
        "id": "76ZPuSF5wioD"
      },
      "execution_count": 10,
      "outputs": []
    },
    {
      "cell_type": "code",
      "source": [
        "labels = pd.DataFrame(y, columns=['label'])\n",
        "labels['label'].unique()"
      ],
      "metadata": {
        "colab": {
          "base_uri": "https://localhost:8080/"
        },
        "id": "zEuk7u_6wme5",
        "outputId": "2e64e0f6-5616-4b22-885f-cfe3e77c620b"
      },
      "execution_count": 20,
      "outputs": [
        {
          "output_type": "execute_result",
          "data": {
            "text/plain": [
              "array(['DrDoS_DNS', 'DrDoS_LDAP', 'DrDoS_MSSQL', 'DrDoS_NetBIOS',\n",
              "       'DrDoS_NTP', 'DrDoS_SNMP', 'DrDoS_SSDP', 'DrDoS_UDP', 'Normal',\n",
              "       'Syn', 'UDPLag'], dtype=object)"
            ]
          },
          "metadata": {},
          "execution_count": 20
        }
      ]
    },
    {
      "cell_type": "markdown",
      "source": [
        "# Submuestro de los datos"
      ],
      "metadata": {
        "id": "oY951hIh-seC"
      }
    },
    {
      "cell_type": "markdown",
      "source": [
        "Dado que en el notebook anterior vimos que los datos estan muy desbalanceados. Es necesario que hagamos un balanceo de los datos a fin de evitar algun sesgo para con las clases mayoritarias al momento de la clasificación."
      ],
      "metadata": {
        "id": "gkjiXhuL-xjK"
      }
    },
    {
      "cell_type": "code",
      "source": [
        "# Suponiendo que tienes un dataframe con las columnas 'data' (imágenes) y 'label' (clase)\n",
        "balanced_data = []\n",
        "min_class_size = labels['label'].value_counts().min()\n",
        "min_class_size"
      ],
      "metadata": {
        "id": "bXYA0jnPto5R",
        "colab": {
          "base_uri": "https://localhost:8080/"
        },
        "outputId": "30e3df10-8015-4932-f946-8f27442a3263"
      },
      "execution_count": 25,
      "outputs": [
        {
          "output_type": "execute_result",
          "data": {
            "text/plain": [
              "174"
            ]
          },
          "metadata": {},
          "execution_count": 25
        }
      ]
    },
    {
      "cell_type": "code",
      "source": [
        "# Realizar el submuestreo por clase\n",
        "for label in labels['label'].unique():\n",
        "    # Filtrar las imágenes y etiquetas correspondientes a la clase\n",
        "    class_indices = labels[labels['label'] == label].index    #Obtiene todos los indices de las etiquetas asociada a cada clase\n",
        "    class_images = X[class_indices] #Obtiene las imagenes asociadas a los indices\n",
        "    class_labels = labels.loc[class_indices] #Obtiene las etiquetas asociadas a los indices y sus correspondientes imagenes\n",
        "\n",
        "    # Submuestrear la clase\n",
        "    balanced_images, balanced_labels = resample(class_images, class_labels, replace=False, n_samples=min_class_size, random_state=42)\n",
        "\n",
        "    # Añadir los datos balanceados a la lista\n",
        "    balanced_data.append((balanced_images, balanced_labels))\n",
        "\n",
        "# Concatenar todas las clases balanceadas\n",
        "balanced_images = np.concatenate([data[0] for data in balanced_data], axis=0)\n",
        "balanced_labels = pd.concat([data[1] for data in balanced_data], axis=0)\n",
        "\n",
        "# Mostrar la forma de las imágenes balanceadas y las etiquetas\n",
        "print(f'Imágenes balanceadas: {balanced_images.shape}')\n",
        "print(f'Etiquetas balanceadas: {balanced_labels.shape}')"
      ],
      "metadata": {
        "colab": {
          "base_uri": "https://localhost:8080/"
        },
        "id": "B5Bwq_BMwssC",
        "outputId": "df1018c1-c920-4b67-dce2-c54ab51479a9"
      },
      "execution_count": 22,
      "outputs": [
        {
          "output_type": "stream",
          "name": "stdout",
          "text": [
            "Imágenes balanceadas: (1914, 60, 60, 3)\n",
            "Etiquetas balanceadas: (1914, 1)\n"
          ]
        }
      ]
    },
    {
      "cell_type": "markdown",
      "source": [
        "Ploteamos nuevamente las clases"
      ],
      "metadata": {
        "id": "rnHEwCcH_Oj0"
      }
    },
    {
      "cell_type": "code",
      "source": [
        "distribucion_clases= {}\n",
        "for i in labels['label'].unique():\n",
        "  distribucion_clases[i] =len(balanced_labels[balanced_labels['label'] == i])"
      ],
      "metadata": {
        "id": "hcMIxSWN0Zs6"
      },
      "execution_count": 23,
      "outputs": []
    },
    {
      "cell_type": "code",
      "source": [
        "plt.figure(figsize=(8, 4))\n",
        "plt.bar(distribucion_clases.keys(),distribucion_clases.values(), color='blue')\n",
        "plt.title('Diagrama de Barras de Ataques DDoS')\n",
        "plt.xlabel('Tipos de Ataques')\n",
        "plt.ylabel('Número de Eventos')\n",
        "plt.xticks(rotation=45)\n",
        "plt.tight_layout()\n",
        "plt.show()"
      ],
      "metadata": {
        "colab": {
          "base_uri": "https://localhost:8080/",
          "height": 407
        },
        "id": "akkQyK2U0gkS",
        "outputId": "255b64a8-d1ff-4006-8e68-276e200d9cb7"
      },
      "execution_count": 24,
      "outputs": [
        {
          "output_type": "display_data",
          "data": {
            "text/plain": [
              "<Figure size 800x400 with 1 Axes>"
            ],
            "image/png": "[encoded data removed]"
          },
          "metadata": {}
        }
      ]
    },
    {
      "cell_type": "markdown",
      "source": [
        "Guardamos este dataset submuestrado para utilizarlo en la arquitectura"
      ],
      "metadata": {
        "id": "2wrz6-Kx_Q_a"
      }
    },
    {
      "cell_type": "code",
      "source": [
        "np.savez(\"/content/cicddos2019_comprimido\", X=balanced_images, y=balanced_labels)\n",
        "print(\"Dataset guardado como archivo comprimido.\")"
      ],
      "metadata": {
        "colab": {
          "base_uri": "https://localhost:8080/"
        },
        "id": "nltPcJUr3t2L",
        "outputId": "d07f3f8f-2b54-49b0-a1db-030ca6248cc6"
      },
      "execution_count": 32,
      "outputs": [
        {
          "output_type": "stream",
          "name": "stdout",
          "text": [
            "Dataset guardado como archivo comprimido.\n"
          ]
        }
      ]
    }
  ]
}